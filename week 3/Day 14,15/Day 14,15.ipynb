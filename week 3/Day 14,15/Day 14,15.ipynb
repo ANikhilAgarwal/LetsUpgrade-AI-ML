{
 "cells": [
  {
   "cell_type": "markdown",
   "metadata": {},
   "source": [
    "# 1. Create a 3x3x3 array with random values "
   ]
  },
  {
   "cell_type": "code",
   "execution_count": 1,
   "metadata": {},
   "outputs": [
    {
     "name": "stdout",
     "output_type": "stream",
     "text": [
      "A 3x3x3 array with random values is:\n",
      "[[[0.38906186 0.78750987 0.09483442]\n",
      "  [0.32179836 0.83316704 0.46188814]\n",
      "  [0.04799917 0.27304245 0.40311701]]\n",
      "\n",
      " [[0.35872395 0.40908588 0.18938735]\n",
      "  [0.28614716 0.31261643 0.30474857]\n",
      "  [0.14558308 0.95856599 0.60624622]]\n",
      "\n",
      " [[0.56247237 0.78658323 0.97789436]\n",
      "  [0.66604328 0.11174066 0.2572563 ]\n",
      "  [0.5724178  0.83857587 0.07947192]]]\n"
     ]
    }
   ],
   "source": [
    "import numpy as np\n",
    "print(\"A 3x3x3 array with random values is:\")\n",
    "print(np.random.rand(3,3,3))"
   ]
  },
  {
   "cell_type": "markdown",
   "metadata": {},
   "source": [
    "# 2.Create a 5x5 matrix with values 1,2,3,4 just below the diagonal"
   ]
  },
  {
   "cell_type": "code",
   "execution_count": 2,
   "metadata": {},
   "outputs": [
    {
     "name": "stdout",
     "output_type": "stream",
     "text": [
      "A 5x5 matrix with values 1,2,3,4 just below the diagonal is :\n",
      "[[0 0 0 0 0]\n",
      " [1 0 0 0 0]\n",
      " [0 2 0 0 0]\n",
      " [0 0 3 0 0]\n",
      " [0 0 0 4 0]]\n"
     ]
    }
   ],
   "source": [
    "import numpy as np\n",
    "print(\"A 5x5 matrix with values 1,2,3,4 just below the diagonal is :\")\n",
    "print(np.diag([1,2,3,4],k=-1))"
   ]
  },
  {
   "cell_type": "markdown",
   "metadata": {},
   "source": [
    "# 3.Create a 8x8 matrix and fill it with a checkerboard pattern"
   ]
  },
  {
   "cell_type": "code",
   "execution_count": 3,
   "metadata": {},
   "outputs": [
    {
     "name": "stdout",
     "output_type": "stream",
     "text": [
      "A 8x8 matrix filled with Checkerboard pattern is:\n",
      "[[0 1 0 1 0 1 0 1]\n",
      " [1 0 1 0 1 0 1 0]\n",
      " [0 1 0 1 0 1 0 1]\n",
      " [1 0 1 0 1 0 1 0]\n",
      " [0 1 0 1 0 1 0 1]\n",
      " [1 0 1 0 1 0 1 0]\n",
      " [0 1 0 1 0 1 0 1]\n",
      " [1 0 1 0 1 0 1 0]]\n"
     ]
    }
   ],
   "source": [
    "print(\"A 8x8 matrix filled with Checkerboard pattern is:\")\n",
    "x = np.zeros((8, 8), dtype = int) \n",
    "x[1::2, ::2] = 1\n",
    "x[::2, 1::2] = 1\n",
    "print(x)"
   ]
  },
  {
   "cell_type": "markdown",
   "metadata": {},
   "source": [
    "# 4. Normalize a 5x5 random matrix"
   ]
  },
  {
   "cell_type": "code",
   "execution_count": 4,
   "metadata": {},
   "outputs": [
    {
     "name": "stdout",
     "output_type": "stream",
     "text": [
      "A Normalized 5x5 random matrix is:\n",
      "[[0.         0.3339474  0.25398568 0.51645119 0.61235637]\n",
      " [0.42241648 0.07842247 0.7857372  0.26299126 0.7931502 ]\n",
      " [0.18587964 0.11963605 0.88678583 0.22132285 0.91583358]\n",
      " [0.53764552 0.83675264 0.13978755 0.7423919  0.39860973]\n",
      " [0.95568711 0.85370934 1.         0.5724044  0.47078879]]\n"
     ]
    }
   ],
   "source": [
    "import numpy as np\n",
    "print(\"A Normalized 5x5 random matrix is:\")\n",
    "x = np.random.rand(5,5)\n",
    "xmax, xmin = x.max(), x.min()\n",
    "x = (x - xmin)/(xmax - xmin)\n",
    "print(x)"
   ]
  },
  {
   "cell_type": "markdown",
   "metadata": {},
   "source": [
    "# 5.  How to find common values between two arrays?"
   ]
  },
  {
   "cell_type": "code",
   "execution_count": 5,
   "metadata": {},
   "outputs": [
    {
     "name": "stdout",
     "output_type": "stream",
     "text": [
      "Array1:  [10 20 30 40 50]\n",
      "Array2:  [10, 30, 0]\n",
      "Common values between two arrays:\n",
      "[10 30]\n"
     ]
    }
   ],
   "source": [
    "array1 = np.array([10, 20, 30, 40, 50])\n",
    "print(\"Array1: \",array1)\n",
    "array2 = [10, 30, 0]\n",
    "print(\"Array2: \",array2)\n",
    "print(\"Common values between two arrays:\")\n",
    "print(np.intersect1d(array1, array2))"
   ]
  },
  {
   "cell_type": "markdown",
   "metadata": {},
   "source": [
    "# 6.How to get the dates of yesterday, today and tomorrow?"
   ]
  },
  {
   "cell_type": "code",
   "execution_count": 6,
   "metadata": {},
   "outputs": [
    {
     "name": "stdout",
     "output_type": "stream",
     "text": [
      "Yesterday =  11-08-2020\n",
      "Today =  12-08-2020\n",
      "Tomorrow =  13-08-2020\n"
     ]
    }
   ],
   "source": [
    "from datetime import datetime, timedelta \n",
    "today = datetime.now() # or presentday = datetime.today() \n",
    "# Get Yesterday \n",
    "yesterday = today - timedelta(1) \n",
    "# Get Tomorrow \n",
    "tomorrow = today + timedelta(1) \n",
    "# strftime() is to format date according to \n",
    "# the need by converting them to string \n",
    "print(\"Yesterday = \", yesterday.strftime('%d-%m-%Y')) \n",
    "print(\"Today = \", today.strftime('%d-%m-%Y')) \n",
    "print(\"Tomorrow = \", tomorrow.strftime('%d-%m-%Y')) "
   ]
  },
  {
   "cell_type": "markdown",
   "metadata": {},
   "source": [
    "# 7. Consider two random array A and B, check if they are equal"
   ]
  },
  {
   "cell_type": "code",
   "execution_count": 7,
   "metadata": {},
   "outputs": [
    {
     "name": "stdout",
     "output_type": "stream",
     "text": [
      "Array A =  [0.61063295 0.41892682 0.38597099]\n",
      "Array B =  [0.770459   0.32630218 0.9165318 ]\n",
      "Array A and B are not Equal\n"
     ]
    }
   ],
   "source": [
    "# 1st WAY of COMPARING TWO ARRAY\n",
    "A = np.random.rand(3)\n",
    "B = np.random.rand(3)\n",
    "print(\"Array A = \",A)\n",
    "print(\"Array B = \",B)\n",
    "if np.array_equal(A,B):\n",
    "    print(\"Array A and B are Equal\")\n",
    "else:\n",
    "    print(\"Array A and B are not Equal\")"
   ]
  },
  {
   "cell_type": "code",
   "execution_count": 8,
   "metadata": {},
   "outputs": [
    {
     "name": "stdout",
     "output_type": "stream",
     "text": [
      "Output is True if two arrays are equal\n",
      "Output is False if two arrays are equal\n",
      "Output: True\n"
     ]
    }
   ],
   "source": [
    "# 2nd WAY of COMPARING TWO ARRAY\n",
    "h=np.array([1,2,3])\n",
    "i=np.array([1,2,3])\n",
    "# comparison = h == i\n",
    "# equal_arrays = comparison.all()#compare two arrays and returns boolean expression\n",
    "print(\"Output is True if two arrays are equal\")\n",
    "print(\"Output is False if two arrays are equal\")\n",
    "# print(\"Output:\",equal_arrays)\n",
    "print(\"Output:\",(h == i).all())"
   ]
  },
  {
   "cell_type": "markdown",
   "metadata": {},
   "source": [
    "# 8.Create random vector of size 10 and replace the maximum value by 0 "
   ]
  },
  {
   "cell_type": "code",
   "execution_count": 9,
   "metadata": {},
   "outputs": [
    {
     "name": "stdout",
     "output_type": "stream",
     "text": [
      "The random vector is-\n",
      "[[-0.38139003]\n",
      " [-0.56763499]\n",
      " [ 0.02612381]\n",
      " [-0.335646  ]\n",
      " [-0.3053251 ]\n",
      " [-0.45867102]\n",
      " [ 2.12680429]\n",
      " [-0.34438815]\n",
      " [-1.89331262]\n",
      " [-1.54370288]]\n",
      "The maximum value in the vector is-\n",
      "2.126804286007788\n",
      "The new vector is-\n",
      "[[-0.38139003]\n",
      " [-0.56763499]\n",
      " [ 0.02612381]\n",
      " [-0.335646  ]\n",
      " [-0.3053251 ]\n",
      " [-0.45867102]\n",
      " [ 0.        ]\n",
      " [-0.34438815]\n",
      " [-1.89331262]\n",
      " [-1.54370288]]\n"
     ]
    }
   ],
   "source": [
    "vec=np.random.randn(10,1)#creates a random vector of given order\n",
    "print(\"The random vector is-\")\n",
    "print(vec)\n",
    "max_val=np.amax(vec)#computes the maximum value from a given vector\n",
    "print(\"The maximum value in the vector is-\")\n",
    "print(max_val)\n",
    "loc=np.where(vec==max_val)#find the index of the maximum value\n",
    "vec[loc]=0\n",
    "print(\"The new vector is-\")\n",
    "print(vec)"
   ]
  },
  {
   "cell_type": "markdown",
   "metadata": {},
   "source": [
    "# 9. How to print all the values of an array?"
   ]
  },
  {
   "cell_type": "code",
   "execution_count": 10,
   "metadata": {},
   "outputs": [
    {
     "name": "stdout",
     "output_type": "stream",
     "text": [
      "The array is:\n",
      "[-0.38635464 -0.37045542  0.80717492]\n",
      "The element at index( 0 ) is: -0.3863546371205378\n",
      "The element at index( 1 ) is: -0.3704554171440534\n",
      "The element at index( 2 ) is: 0.8071749169651216\n"
     ]
    }
   ],
   "source": [
    "A = np.random.randn(3,)  # creates a random array of given order\n",
    "print(\"The array is:\")\n",
    "print(A)\n",
    "for i in range(len(A)):\n",
    "    print(\"The element at index(\", i, \") is:\", A[i])"
   ]
  },
  {
   "cell_type": "code",
   "execution_count": 11,
   "metadata": {},
   "outputs": [
    {
     "name": "stdout",
     "output_type": "stream",
     "text": [
      "The array is:\n",
      "[[-0.73726751  1.41836333  0.84687812]\n",
      " [ 0.85722126 -0.02554429 -0.68455636]\n",
      " [ 0.30829095  0.34863673 -3.58755383]]\n",
      "9\n",
      "The element at index( 0 , 0 ) is: -0.7372675087562416\n",
      "The element at index( 0 , 1 ) is: 1.4183633259855952\n",
      "The element at index( 0 , 2 ) is: 0.8468781160624859\n",
      "The element at index( 1 , 0 ) is: 0.8572212646418327\n",
      "The element at index( 1 , 1 ) is: -0.025544286716531046\n",
      "The element at index( 1 , 2 ) is: -0.6845563564323912\n",
      "The element at index( 2 , 0 ) is: 0.3082909512640648\n",
      "The element at index( 2 , 1 ) is: 0.34863673320532373\n",
      "The element at index( 2 , 2 ) is: -3.5875538322814156\n"
     ]
    }
   ],
   "source": [
    "A = np.random.randn(3, 3)  # creates a random array of given order\n",
    "print(\"The array is:\")\n",
    "print(A)\n",
    "print(A.size)\n",
    "for i in range(len(A)):\n",
    "    for j in range(len(A)):\n",
    "        print(\"The element at index(\", i, \",\", j, \") is:\", A[i][j])"
   ]
  },
  {
   "cell_type": "markdown",
   "metadata": {},
   "source": [
    "# 10.Subtract the mean of each row of a matrix"
   ]
  },
  {
   "cell_type": "code",
   "execution_count": 12,
   "metadata": {},
   "outputs": [
    {
     "name": "stdout",
     "output_type": "stream",
     "text": [
      "The matrix is-\n",
      "[[-0.34476209 -0.77187857 -1.75823901]\n",
      " [ 1.20782599  0.29834321 -1.03784422]\n",
      " [ 0.41528372 -0.32953183  0.30622553]]\n",
      "The mean value of each row is- \n",
      "[-0.95829323  0.15610833  0.13065914]\n",
      "The matrix after the mean is subtracted-\n",
      "[[ 0.61353113 -0.9279869  -1.88889815]\n",
      " [ 2.16611921  0.14223488 -1.16850336]\n",
      " [ 1.37357695 -0.48564016  0.17556639]]\n"
     ]
    }
   ],
   "source": [
    "arr = np.random.randn(3, 3)  #creates a random matrix of given order\n",
    "print(\"The matrix is-\")\n",
    "print(arr)\n",
    "print(\"The mean value of each row is- \")\n",
    "arr1 = np.mean(arr, axis=1)  #computes the mean of each row\n",
    "print(arr1)\n",
    "arr2 = arr - arr1.T\n",
    "print(\"The matrix after the mean is subtracted-\")\n",
    "print(arr2)"
   ]
  },
  {
   "cell_type": "markdown",
   "metadata": {},
   "source": [
    "# 11.Consider a given vector, how to add 1 to each element indexed by a second vector (be careful with repeated indices)? "
   ]
  },
  {
   "cell_type": "code",
   "execution_count": 13,
   "metadata": {},
   "outputs": [
    {
     "name": "stdout",
     "output_type": "stream",
     "text": [
      "The original vector is:\n",
      "[1. 1. 1. 1. 1. 1. 1. 1. 1. 1.]\n",
      "The Index values are:\n",
      "[8 8 3 2 2 3 6 4 1 7 3 2 9 1 6 1 3 7 2 1]\n",
      "Final vector after adding 1 to corresponding elements at the specified indices:\n",
      "[1. 5. 5. 5. 2. 1. 3. 3. 3. 2.]\n"
     ]
    }
   ],
   "source": [
    "Z = np.ones(10)\n",
    "print(\"The original vector is:\")\n",
    "print(Z)\n",
    "I = np.random.randint(0,len(Z),20)\n",
    "print(\"The Index values are:\")\n",
    "print(I)\n",
    "Z += np.bincount(I, minlength=len(Z))\n",
    "print(\"Final vector after adding 1 to corresponding elements at the specified indices:\")\n",
    "print(Z)"
   ]
  },
  {
   "cell_type": "code",
   "execution_count": null,
   "metadata": {},
   "outputs": [],
   "source": []
  },
  {
   "cell_type": "markdown",
   "metadata": {},
   "source": [
    "# 12.How to get the diagonal of a dot product?"
   ]
  },
  {
   "cell_type": "code",
   "execution_count": 14,
   "metadata": {},
   "outputs": [
    {
     "name": "stdout",
     "output_type": "stream",
     "text": [
      "The first 3X3 array is- \n",
      "[[ 0.75503157 -0.73948328  0.30588481]\n",
      " [-0.98707707 -0.22811415  1.35029956]\n",
      " [-0.84277032  0.63807587 -0.16246526]] \n",
      "\n",
      "The second 3X3 array is- \n",
      "[[-0.430032    0.24062906  1.60170175]\n",
      " [ 0.39301238 -0.3300358  -0.48146851]\n",
      " [ 0.30360783  0.95370732 -0.1682924 ]] \n",
      "\n",
      "The corresponding dot product is- \n",
      "[[-0.5224448   0.71746307  1.5138952 ]\n",
      " [ 0.74478456  1.12555699 -1.69841845]\n",
      " [ 0.5638642  -0.56832721 -1.62973846]] \n",
      "\n",
      "The corresponding diagnol elements are- \n",
      "[-0.5224448   1.12555699 -1.62973846] \n",
      "\n"
     ]
    }
   ],
   "source": [
    "A = np.random.randn(3, 3)  #creates a random matrix of given order\n",
    "print(\"The first 3X3 array is- \")\n",
    "print(A,\"\\n\")\n",
    "B = np.random.randn(3, 3)  #creates a random matrix of given order\n",
    "print(\"The second 3X3 array is- \")\n",
    "print(B,\"\\n\")\n",
    "C = np.dot(A, B)  #computes the dot product of two given matrices\n",
    "print(\"The corresponding dot product is- \")\n",
    "print(C,\"\\n\")\n",
    "DIAG = np.diag(C)  #choose the diagnol elements of given matrix\n",
    "print(\"The corresponding diagnol elements are- \")\n",
    "print(DIAG,\"\\n\")"
   ]
  },
  {
   "cell_type": "markdown",
   "metadata": {},
   "source": [
    "# 13.How to find the most frequent value in an array?"
   ]
  },
  {
   "cell_type": "code",
   "execution_count": 15,
   "metadata": {},
   "outputs": [
    {
     "data": {
      "text/plain": [
       "2"
      ]
     },
     "execution_count": 15,
     "metadata": {},
     "output_type": "execute_result"
    }
   ],
   "source": [
    "k = np.array(\n",
    "    [1, 2, 3, 1, 2, 3, 2, 2, 4, 5, 6, 7, 8, 9])\n",
    "np.argmax(np.bincount(k))  #finds the value that is repeated maximum number of times in a given array"
   ]
  },
  {
   "cell_type": "markdown",
   "metadata": {},
   "source": [
    "# 14.How to get the n largest values of an array"
   ]
  },
  {
   "cell_type": "code",
   "execution_count": 16,
   "metadata": {},
   "outputs": [
    {
     "name": "stdout",
     "output_type": "stream",
     "text": [
      "Enter the value of n:2\n",
      "The 2 largest value of the array are:\n",
      "[999 998]\n"
     ]
    }
   ],
   "source": [
    "A=np.arange(1000)#generates a sequential array with numbers 0 to 999\n",
    "np.random.shuffle(A)\n",
    "n=int(input(\"Enter the value of n:\"))\n",
    "print(\"The\",n,\"largest value of the array are:\")\n",
    "print (A[np.argpartition(-A,n)[:n]])#prints the n largest values in the specified array"
   ]
  },
  {
   "cell_type": "code",
   "execution_count": 17,
   "metadata": {},
   "outputs": [
    {
     "name": "stdout",
     "output_type": "stream",
     "text": [
      "Enter the value of n:2\n",
      "The 2 largest value of the array are:\n",
      "[998 999]\n"
     ]
    }
   ],
   "source": [
    "A = np.arange(1000)  #generates a sequential array with numbers 0 to 999\n",
    "np.random.shuffle(A)\n",
    "n = int(input(\"Enter the value of n:\"))\n",
    "print(\"The\", n, \"largest value of the array are:\")\n",
    "print(A[np.argsort(A)[-n:]])  #prints the n largest values in the specified array"
   ]
  },
  {
   "cell_type": "markdown",
   "metadata": {},
   "source": [
    "# 15.How to create a record array from a regular array?"
   ]
  },
  {
   "cell_type": "code",
   "execution_count": 18,
   "metadata": {},
   "outputs": [
    {
     "name": "stdout",
     "output_type": "stream",
     "text": [
      "Original array is:\n",
      "\n",
      "[['Nikhil Agarwal' '88.5' '90']\n",
      " ['Dhananjay Verma' '87' '99']\n",
      " ['B S Puneeth' '85.5' '91']]\n",
      "Record array is:\n",
      "\n",
      "[['Nikhil Agarwal' '88.5' '90']\n",
      " ['Dhananjay Verma' '87' '99']\n",
      " ['B S Puneeth' '85.5' '91']]\n"
     ]
    },
    {
     "data": {
      "text/plain": [
       "numpy.recarray"
      ]
     },
     "execution_count": 18,
     "metadata": {},
     "output_type": "execute_result"
    }
   ],
   "source": [
    "arr = np.array([[\"Nikhil Agarwal\", 88.5, 90],[\"Dhananjay Verma\", 87, 99],[\"B S Puneeth\", 85.5, 91]])#generates a 2D array\n",
    "print(\"Original array is:\\n\")\n",
    "print(arr)\n",
    "print(\"Record array is:\\n\")\n",
    "rec_arr = np.core.records.fromarrays(arr.T,names='col1, col2, col3',formats = 'S80, f8, i8')# generates a reccord array\n",
    "print(arr)\n",
    "type(rec_arr)"
   ]
  },
  {
   "cell_type": "code",
   "execution_count": null,
   "metadata": {},
   "outputs": [],
   "source": []
  }
 ],
 "metadata": {
  "kernelspec": {
   "display_name": "Python 3",
   "language": "python",
   "name": "python3"
  },
  "language_info": {
   "codemirror_mode": {
    "name": "ipython",
    "version": 3
   },
   "file_extension": ".py",
   "mimetype": "text/x-python",
   "name": "python",
   "nbconvert_exporter": "python",
   "pygments_lexer": "ipython3",
   "version": "3.7.6"
  }
 },
 "nbformat": 4,
 "nbformat_minor": 2
}
