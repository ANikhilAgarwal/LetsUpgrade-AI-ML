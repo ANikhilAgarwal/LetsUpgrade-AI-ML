{
 "cells": [
  {
   "cell_type": "markdown",
   "metadata": {},
   "source": [
    "# Assignment Day 3 | 8th July 2020\n"
   ]
  },
  {
   "cell_type": "markdown",
   "metadata": {},
   "source": [
    "# Question 1 :\n",
    "### Write a program to subtract two complex numbers in Python."
   ]
  },
  {
   "cell_type": "code",
   "execution_count": 1,
   "metadata": {},
   "outputs": [
    {
     "name": "stdout",
     "output_type": "stream",
     "text": [
      "First Complex Number is: (2+3j)\n",
      "Second Complex Number is: (12+1j)\n",
      "Subtraction of Two Complex Number is: (-10+2j)\n"
     ]
    }
   ],
   "source": [
    "a = 2 + 3j                                           # First Complex Number\n",
    "b = 12 + 1j                                          # Second Complex Number\n",
    "print(\"First Complex Number is:\",a)                  # Printing First Complex Number\n",
    "print(\"Second Complex Number is:\",b)                 # Printing Second Complex Number\n",
    "c = a - b                                            # Adding the Above Two Complex Number\n",
    "print(\"Subtraction of Two Complex Number is:\",c)     # Printing The Value of Subtraction of two Complex Number"
   ]
  },
  {
   "cell_type": "markdown",
   "metadata": {},
   "source": [
    "# Question 2 :\n",
    "### Write a program to find the fourth root of a number."
   ]
  },
  {
   "cell_type": "code",
   "execution_count": 2,
   "metadata": {},
   "outputs": [
    {
     "name": "stdout",
     "output_type": "stream",
     "text": [
      "Number: 14641\n",
      "Fourth root of a number is: 11.0\n"
     ]
    }
   ],
   "source": [
    "a = 14641                                       # Consider a Number\n",
    "r = a ** (1/4)                                  # value of fourth root of a number\n",
    "print(\"Number:\",a)                              # Printing the Number\n",
    "print(\"Fourth root of a number is:\",r)          # Printing the value of fourth root of \n"
   ]
  },
  {
   "cell_type": "markdown",
   "metadata": {},
   "source": [
    "# Question 3:\n",
    "### Write a program to swap two numbers in Python with the help of a temporary variable."
   ]
  },
  {
   "cell_type": "code",
   "execution_count": 3,
   "metadata": {},
   "outputs": [
    {
     "name": "stdout",
     "output_type": "stream",
     "text": [
      "Numbers Before Swapping are:\n",
      "a = 12 \n",
      "b = 120\n",
      "Number After Swapping are:\n",
      "a = 120 \n",
      "b =  12\n"
     ]
    }
   ],
   "source": [
    "temp = 0                                               # Temporary Variable\n",
    "a = 12                                                 # First Number\n",
    "b = 120                                                # Second Number\n",
    "print(\"Numbers Before Swapping are:\\na =\",a,\"\\nb =\",b) # Numbers Before Swapping\n",
    "temp = a\n",
    "a    = b\n",
    "b    = temp\n",
    "print(\"Number After Swapping are:\\na =\",a,\"\\nb = \",b)  # Number After Swapping"
   ]
  },
  {
   "cell_type": "markdown",
   "metadata": {},
   "source": [
    "# Question 4:\n",
    "### Write a program to swap two numbers in Python without using a temporary variable."
   ]
  },
  {
   "cell_type": "code",
   "execution_count": 4,
   "metadata": {},
   "outputs": [
    {
     "name": "stdout",
     "output_type": "stream",
     "text": [
      "Numbers Before Swapping are:\n",
      "a = 12 \n",
      "b = 120\n",
      "Number After Swapping are:\n",
      "a = 120 \n",
      "b =  12\n"
     ]
    }
   ],
   "source": [
    "a = 12                                                 # First Number\n",
    "b = 120                                                # Second Number\n",
    "print(\"Numbers Before Swapping are:\\na =\",a,\"\\nb =\",b) # Numbers Before Swapping\n",
    "a = a + b\n",
    "b = a - b\n",
    "a = a - b\n",
    "print(\"Number After Swapping are:\\na =\",a,\"\\nb = \",b)  # Number After Swapping"
   ]
  },
  {
   "cell_type": "markdown",
   "metadata": {},
   "source": [
    "# Question 5:\n",
    "### Write a program to convert fahrenheit to kelvin and celsius both."
   ]
  },
  {
   "cell_type": "code",
   "execution_count": 5,
   "metadata": {},
   "outputs": [
    {
     "name": "stdout",
     "output_type": "stream",
     "text": [
      "Farhrenheit value is: 32\n",
      "Kelvin 273.15\n",
      "Celsius: 0.0\n"
     ]
    }
   ],
   "source": [
    "far = 32\n",
    "c = (far - 32) * (5 / 9)\n",
    "k = c + 273.15\n",
    "print(\"Farhrenheit value is:\", far)\n",
    "print(\"Kelvin\",k)\n",
    "print(\"Celsius:\",c)"
   ]
  },
  {
   "cell_type": "markdown",
   "metadata": {},
   "source": [
    "# Question 6:\n",
    "### Write a program to demonstrate all the available data types in Python. Hint: Use type() function."
   ]
  },
  {
   "cell_type": "code",
   "execution_count": 6,
   "metadata": {
    "scrolled": true
   },
   "outputs": [
    {
     "name": "stdout",
     "output_type": "stream",
     "text": [
      "1.  <class 'int'>\n",
      "2.  <class 'float'>\n",
      "4.  <class 'complex'>\n",
      "5.  <class 'str'>\n",
      "6.  <class 'list'>\n",
      "7.  <class 'tuple'>\n",
      "8.  <class 'dict'>\n",
      "9.  <class 'set'>\n",
      "10.  <class 'bool'>\n"
     ]
    }
   ],
   "source": [
    "#NUMERIC\n",
    "# int\n",
    "print(\"1. \",type(10))\n",
    "# Float \n",
    "print(\"2. \",type(3.5))\n",
    "# Complex Number\n",
    "print(\"4. \",type(2 + 3j))\n",
    "\n",
    "#SEQUENCE\n",
    "# String\n",
    "print(\"5. \",type(\"I am Nikhil Agarwal\"))\n",
    "# List\n",
    "print(\"6. \",type([\"fruits\",\"Vegitables\"]))\n",
    "# Tuple\n",
    "print(\"7. \",type((\"fruits\",\"Vegitables\")))\n",
    "\n",
    "# Dictionary\n",
    "print(\"8. \",type({\"Name\":\"Nikhil Agarwal\"}))\n",
    "\n",
    "# Sets\n",
    "print(\"9. \",type({1,2,3}))\n",
    "\n",
    "# Boolean Algebra\n",
    "print(\"10. \",type(True))"
   ]
  },
  {
   "cell_type": "markdown",
   "metadata": {},
   "source": [
    "# Question 7:\n",
    "### Create a Markdown cell in jupyter and list the steps discussed in the session by Dr. Darshan Ingle sir to create Github profile and upload Githubs Assignment link."
   ]
  },
  {
   "cell_type": "markdown",
   "metadata": {},
   "source": [
    "> Go to https://github.com/join.\n",
    "\n",
    "> Type a user name, your email address, and a password. (Already HAve an Account Then Sign-IN)\n",
    "\n",
    "> Choose Sign up for GitHub, and then follow the instructions.\n",
    "\n",
    "1. In the upper-right corner of any page, click , and then click New repository.\n",
    "\n",
    "2. In the Owner drop-down, select the account you wish to create the repository on.( mostly for personal projects select your user name\n",
    "\n",
    "3. Type a name for your repository, and an optional description.\n",
    "\n",
    "4. Choose to make the repository either public or private. Public repositories are visible to the public, while private repositories are only accessible to you, and people you share them with.\n",
    "\n",
    "5. \n",
    "   * You can create a README, which is a document describing your project.\n",
    "\n",
    "   * You can create a .gitignore file, which is a set of ignore rules.\n",
    "\n",
    "10. When you're finished, click Create repository."
   ]
  },
  {
   "cell_type": "code",
   "execution_count": null,
   "metadata": {},
   "outputs": [],
   "source": []
  }
 ],
 "metadata": {
  "kernelspec": {
   "display_name": "Python 3",
   "language": "python",
   "name": "python3"
  },
  "language_info": {
   "codemirror_mode": {
    "name": "ipython",
    "version": 3
   },
   "file_extension": ".py",
   "mimetype": "text/x-python",
   "name": "python",
   "nbconvert_exporter": "python",
   "pygments_lexer": "ipython3",
   "version": "3.7.6"
  }
 },
 "nbformat": 4,
 "nbformat_minor": 4
}
