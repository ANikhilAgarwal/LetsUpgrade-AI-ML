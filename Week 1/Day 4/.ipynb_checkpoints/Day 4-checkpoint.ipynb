{
 "cells": [
  {
   "cell_type": "markdown",
   "metadata": {},
   "source": [
    "# Assignment Day 4 | 9th July 2020"
   ]
  },
  {
   "cell_type": "markdown",
   "metadata": {},
   "source": [
    "# Question 1 :\n",
    "### Research on whether addition, subtraction, multiplication, division, floor division and modulo operations be performed on complex numbers. Based on your study, implement a Python program to demonstrate these operations.\n"
   ]
  },
  {
   "cell_type": "code",
   "execution_count": 6,
   "metadata": {},
   "outputs": [
    {
     "name": "stdout",
     "output_type": "stream",
     "text": [
      "Addition of (2+1j) and (3+9j) is (5+10j)\n",
      "Subtraction of (2+1j) and (3+9j) is (-1-8j)\n",
      "Multiplication of (2+1j) and (3+9j) is (-3+21j)\n",
      "Division of (2+1j) and (3+9j) is (0.16666666666666666-0.16666666666666669j)\n",
      "Floor cannot be performed on Complex Numbers\n",
      "Modulo cannot be performed on Complex Numbers\n"
     ]
    }
   ],
   "source": [
    "a = 2+1j\n",
    "b = 3+9j\n",
    "\n",
    "#Addition\n",
    "print(\"Addition of\",a,\"and\",b,\"is\",a+b)\n",
    "\n",
    "#Subtraction\n",
    "print(\"Subtraction of\",a,\"and\",b,\"is\",a-b)\n",
    "\n",
    "#Multiplication\n",
    "print(\"Multiplication of\",a,\"and\",b,\"is\",a * b)\n",
    "\n",
    "#Division\n",
    "print(\"Division of\",a,\"and\",b,\"is\", a / b)\n",
    "\n",
    "#Floor Division\n",
    "try:\n",
    "    print(\"Floor Division of\",a,\"and\",b,\"is\", a // b)\n",
    "except:\n",
    "    print('Floor cannot be performed on Complex Numbers')\n",
    "\n",
    "#Modulo \n",
    "try:\n",
    "    print(\"Modulo of\",a,\"and\",b,\"is\", a % b)\n",
    "except:\n",
    "    print(\"Modulo cannot be performed on Complex Numbers\")"
   ]
  },
  {
   "cell_type": "markdown",
   "metadata": {},
   "source": [
    "# Question 2 :\n",
    "### Research on range() functions and its parameters. Create a markdown cell and write in your own words (no copy-paste from google please) what you understand about it. Implement a small program of your choice on the same."
   ]
  },
  {
   "cell_type": "markdown",
   "metadata": {},
   "source": [
    "__range()__ This Function is used to return the values in sequence.\n",
    "            1. if range(n) is written then, 0 to n-1 numbers are returned.\n",
    "            2. if range(1,5) is written then, 1 to 5(excluding 5) are returned.\n",
    "            3. if range(1,15,2) is written then, 1 to 15(excluding 15) numbers are printed were every next number is added by 2."
   ]
  },
  {
   "cell_type": "markdown",
   "metadata": {},
   "source": [
    "# Question 3:\n",
    "### Consider two numbers. Perform their subtraction and if the result of subtraction is greater than 25, print their multiplication result else print their division result."
   ]
  },
  {
   "cell_type": "code",
   "execution_count": 7,
   "metadata": {},
   "outputs": [
    {
     "name": "stdout",
     "output_type": "stream",
     "text": [
      "Multiplication of 3108 and 2314 is 7191912\n"
     ]
    }
   ],
   "source": [
    "#first Number\n",
    "a = 3108\n",
    "\n",
    "#Second Number\n",
    "b = 2314\n",
    "\n",
    "#Subraction\n",
    "c = a - b\n",
    "\n",
    "#if Statement to check C is greater than 25\n",
    "if c > 25:\n",
    "    print(\"Multiplication of\",a,\"and\",b,\"is\",a*b)   # C is greater than 25 so, multiplication result is priinted.\n",
    "else:\n",
    "    print(\"Division of\",a,\"and\",b,\"is\",a/b)         # C is lesss than 25 so, multiplication result is printed."
   ]
  },
  {
   "cell_type": "markdown",
   "metadata": {},
   "source": [
    "# Question 4:\n",
    "### Consider a list of 10 elements of integer values. If the number in the list is divisible by 2, print the result as \"square of that number minus 2\"."
   ]
  },
  {
   "cell_type": "code",
   "execution_count": 15,
   "metadata": {},
   "outputs": [
    {
     "name": "stdout",
     "output_type": "stream",
     "text": [
      "number is not Divisible by 2\n",
      "-0.5857864376269049\n",
      "number is not Divisible by 2\n",
      "0.0\n",
      "number is not Divisible by 2\n",
      "0.4494897427831779\n",
      "number is not Divisible by 2\n",
      "0.8284271247461903\n",
      "number is not Divisible by 2\n",
      "1.1622776601683795\n"
     ]
    }
   ],
   "source": [
    "#imported math function because we are using sqrt in the program\n",
    "import math\n",
    "\n",
    "#list of 10 integer values\n",
    "lst = [1,2,3,4,5,6,7,8,9,10]\n",
    "\n",
    "#for loop on the list\n",
    "for num in lst:\n",
    "    if num % 2 == 0:                        # if statement to check number is divisible by 2.\n",
    "        print(math.sqrt(num) - 2)           # if divisible by 2 \"square of that number minus 2\" is displayed.\n",
    "    else:\n",
    "        print(\"number is not Divisible by 2\") # if not divisible by 2 then \"number is not Divisible by 2\" is used."
   ]
  },
  {
   "cell_type": "markdown",
   "metadata": {},
   "source": [
    "# Question 5:\n",
    "### Consider a list of 10 elements. Print all the elements in the list which are greater than 7 when that number is divided 2.\n"
   ]
  },
  {
   "cell_type": "code",
   "execution_count": 22,
   "metadata": {},
   "outputs": [
    {
     "name": "stdout",
     "output_type": "stream",
     "text": [
      "The number is: 9.5\n",
      "The number is: 13.5\n",
      "The number is: 9.5\n",
      "The number is: 46.0\n",
      "The number is: 467.0\n",
      "The number is: 21.5\n",
      "The number is: 16.0\n"
     ]
    }
   ],
   "source": [
    "# list of 10 integer values\n",
    "lst = [10,19,27,19,2,3,92,934,43,32]\n",
    "\n",
    "# for loop on the list \n",
    "for num in lst:                \n",
    "    n = num / 2                     # the list number is divided 2.\n",
    "    if n > 7:                       # if statement to check ans after dividing is greater than 7 .\n",
    "        print(\"The number is:\",n)   # The number divisible by 7 is printed."
   ]
  }
 ],
 "metadata": {
  "kernelspec": {
   "display_name": "Python 3",
   "language": "python",
   "name": "python3"
  },
  "language_info": {
   "codemirror_mode": {
    "name": "ipython",
    "version": 3
   },
   "file_extension": ".py",
   "mimetype": "text/x-python",
   "name": "python",
   "nbconvert_exporter": "python",
   "pygments_lexer": "ipython3",
   "version": "3.7.6"
  }
 },
 "nbformat": 4,
 "nbformat_minor": 4
}
