{
 "cells": [
  {
   "cell_type": "markdown",
   "metadata": {},
   "source": [
    "# Assignment Day 5 | 10th July 2020\n"
   ]
  },
  {
   "cell_type": "markdown",
   "metadata": {},
   "source": [
    "# Question 1 :\n",
    "### Write a Python program to find the first 20 non-even prime natural numbers."
   ]
  },
  {
   "cell_type": "code",
   "execution_count": 23,
   "metadata": {},
   "outputs": [
    {
     "name": "stdout",
     "output_type": "stream",
     "text": [
      "1 --> 3 is a prime number\n",
      "2 --> 5 is a prime number\n",
      "3 --> 7 is a prime number\n",
      "4 --> 9 is a prime number\n",
      "5 --> 11 is a prime number\n",
      "6 --> 13 is a prime number\n",
      "7 --> 15 is a prime number\n",
      "8 --> 17 is a prime number\n",
      "9 --> 19 is a prime number\n",
      "10 --> 21 is a prime number\n",
      "11 --> 23 is a prime number\n",
      "12 --> 25 is a prime number\n",
      "13 --> 27 is a prime number\n",
      "14 --> 29 is a prime number\n",
      "15 --> 31 is a prime number\n",
      "16 --> 33 is a prime number\n",
      "17 --> 35 is a prime number\n",
      "18 --> 37 is a prime number\n",
      "19 --> 39 is a prime number\n",
      "20 --> 41 is a prime number\n"
     ]
    }
   ],
   "source": [
    "# To take input from the user\n",
    "n = 1\n",
    "# prime numbers are greater than 1\n",
    "for num in range(100):\n",
    "    if n != 21:\n",
    "        if (num % 2) != 0:\n",
    "            if num > 1:\n",
    "               # check for factors\n",
    "               for i in range(2,num):\n",
    "                    if (num % i) == 0:\n",
    "                        print(num,\"is not a prime number\")\n",
    "                        print(i,\"times\",num//i,\"is\",num)\n",
    "                        break\n",
    "                    else:\n",
    "                        print(n,\"-->\", num,\"is a prime number\")\n",
    "                        n = n + 1\n",
    "                        break\n",
    "    else:\n",
    "        break"
   ]
  },
  {
   "cell_type": "markdown",
   "metadata": {},
   "source": [
    "# Question 2 : \n",
    "### Write a Python program to implement 15 functions of string."
   ]
  },
  {
   "cell_type": "code",
   "execution_count": 19,
   "metadata": {},
   "outputs": [
    {
     "name": "stdout",
     "output_type": "stream",
     "text": [
      "Center() Function:\n",
      " -------------------------------------------I @ am Nikhil--------------------------------------------\n",
      "isalnum() Function:\n",
      " False\n",
      "\n",
      "isalpha() Function:\n",
      " False\n",
      "\n",
      "upper() Function:\n",
      " I @ AM NIKHIL\n",
      "\n",
      "lower() Function:\n",
      " i @ am nikhil\n",
      "\n",
      "title() Function:\n",
      " I @ Am Nikhil\n",
      "\n",
      "index() Function:\n",
      " 7\n",
      "\n",
      "find() Function:\n",
      " 7\n",
      "\n",
      "swapcase() Function\n",
      " i @ AM nIKHIL\n",
      "\n",
      "replace Function:\n",
      " I @ am Nikhil Agarwal\n",
      "\n",
      "zfill Function:\n",
      " 0000000I @ am Nikhil\n",
      "\n",
      "rindex() Function:\n",
      " 7\n",
      "\n",
      "rfind() Function:\n",
      " 7\n",
      "\n",
      "partition Function:\n",
      " ('I @ am ', 'Nikhil', '')\n",
      "\n",
      "join() Function:\n",
      " I@ @@@ @a@m@ @N@i@k@h@i@l\n"
     ]
    }
   ],
   "source": [
    "stri = \"I am Nikhil\"\n",
    "\n",
    "# center()\n",
    "x = stri.center(100, \"-\")\n",
    "print(\"Center() Function:\\n\",x)\n",
    "\n",
    "# isalnum()\n",
    "# The isalnum() method returns True if all the characters are alphanumeric, meaning alphabet letter (a-z) and numbers (0-9)\n",
    "x = stri.isalnum()\n",
    "print(\"isalnum() Function:\\n\",x)\n",
    "\n",
    "# isalpha()\n",
    "# The isalpha() method returns True if all the characters are alphabet letters (a-z).\n",
    "x = stri.isalpha()\n",
    "print(\"\\nisalpha() Function:\\n\",x)\n",
    "\n",
    "# upper()\n",
    "# The upper() method returns a string where all characters are in upper case.\n",
    "x = stri.upper()\n",
    "print(\"\\nupper() Function:\\n\",x)\n",
    "\n",
    "# lower()\n",
    "# The lower() method returns a string where all characters are lower case.\n",
    "x = stri.lower()\n",
    "print(\"\\nlower() Function:\\n\",x)\n",
    "\n",
    "# title()\n",
    "# The title() method returns a string where the first character in every word is upper case. Like a header, or a title.\n",
    "x = stri.title()\n",
    "print(\"\\ntitle() Function:\\n\",x)\n",
    "\n",
    "# index()\n",
    "# The index() method finds the first occurrence of the specified value.\n",
    "# The index() method raises an exception if the value is not found.\n",
    "# The index() method is almost the same as the find() method, the only difference is that the find() method returns -1 if the value is not found.\n",
    "x = stri.index(\"Nikhil\")\n",
    "print(\"\\nindex() Function:\\n\",x)\n",
    "\n",
    "\n",
    "# find()\n",
    "# The find() method finds the first occurrence of the specified value.\n",
    "# The find() method returns -1 if the value is not found.\n",
    "# The find() method is almost the same as the index() method, the only difference is that the index() method raises an exception if the value is not found. \n",
    "x = stri.find(\"Nikhil\")\n",
    "print(\"\\nfind() Function:\\n\",x)\n",
    "\n",
    "# swapcsae()\n",
    "# The swapcase() method returns a string where all the upper case letters are lower case and vice versa.\n",
    "x = stri.swapcase()\n",
    "print(\"\\nswapcase() Function\\n\",x)\n",
    "\n",
    "# replace()\n",
    "# The replace() method replaces a specified phrase with another specified phrase.\n",
    "x = stri.replace(\"Nikhil\",\"Nikhil Agarwal\")\n",
    "print(\"\\nreplace Function:\\n\",x)\n",
    "\n",
    "# zfill()\n",
    "# The zfill() method adds zeros (0) at the beginning of the string, until it reaches the specified length.\n",
    "# If the value of the len parameter is less than the length of the string, no filling is done.\n",
    "x = stri.zfill(20)\n",
    "print(\"\\nzfill Function:\\n\",x)\n",
    "\n",
    "# rindex()\n",
    "# The rindex() method finds the last occurrence of the specified value.\n",
    "# The rindex() method raises an exception if the value is not found.\n",
    "# The rindex() method is almost the same as the rfind() method.\n",
    "x = stri.rindex(\"Nikhil\")\n",
    "print(\"\\nrindex() Function:\\n\",x)\n",
    "\n",
    "# rfind()\n",
    "# The rfind() method finds the last occurrence of the specified value.\n",
    "# The rfind() method returns -1 if the value is not found.\n",
    "# The rfind() method is almost the same as the rindex() method.\n",
    "x = stri.rfind(\"Nikhil\")\n",
    "print(\"\\nrfind() Function:\\n\",x)\n",
    "\n",
    "\n",
    "# partition()\n",
    "# The partition() method searches for a specified string, and splits the string into a tuple containing three elements.\n",
    "# The first element contains the part before the specified string.\n",
    "# The second element contains the specified string.\n",
    "# The third element contains the part after the string.\n",
    "x = stri.partition(\"Nikhil\")\n",
    "print(\"\\npartition Function:\\n\",x)\n",
    "\n",
    "# join()\n",
    "# The join() method takes all items in an iterable and joins them into one string.\n",
    "# A string must be specified as the separator.\n",
    "x = \"@\".join(stri)\n",
    "print(\"\\njoin() Function:\\n\",x)"
   ]
  },
  {
   "cell_type": "markdown",
   "metadata": {},
   "source": [
    "# Question 3: \n",
    "### Write a Python program to check if the given string is a Palindrome or Anagram or None of them. Display the message accordingly to the user."
   ]
  },
  {
   "cell_type": "code",
   "execution_count": 26,
   "metadata": {},
   "outputs": [
    {
     "name": "stdout",
     "output_type": "stream",
     "text": [
      "The string is palindrome!\n",
      "The string is a anagram!\n"
     ]
    }
   ],
   "source": [
    "str1 = \"level\"\n",
    "str2 = \"evell\"\n",
    "i = 0\n",
    "\n",
    "rev = str1[::-1]\n",
    "if(str1==rev):\n",
    "    print(\"The string is palindrome!\")\n",
    "    i = i + 1\n",
    "else:\n",
    "    print(\"Not a palindrome!\")\n",
    "\n",
    "if(sorted(str1) == sorted(str2)):\n",
    "    print(\"The string is a anagram!\")\n",
    "    i = i + 1\n",
    "if i == 0:\n",
    "    print(\"The string is neither palindrome nor anagram!\")"
   ]
  },
  {
   "cell_type": "markdown",
   "metadata": {},
   "source": [
    "# Question 4: \n",
    "### Write a Python's user defined function that removes all the additional characters from the string and converts it finally to lower case using built-in lower(). eg: If the string is \"Dr. Darshan Ingle @AI-ML Trainer\", then the output be \"drdarshaningleaimltrainer\"."
   ]
  },
  {
   "cell_type": "code",
   "execution_count": 36,
   "metadata": {},
   "outputs": [
    {
     "name": "stdout",
     "output_type": "stream",
     "text": [
      "Enter the stringDr. Darshan Ingle @AI-ML Trainer\n"
     ]
    },
    {
     "ename": "TypeError",
     "evalue": "'str' object is not callable",
     "output_type": "error",
     "traceback": [
      "\u001b[0;31m---------------------------------------------------------------------------\u001b[0m",
      "\u001b[0;31mTypeError\u001b[0m                                 Traceback (most recent call last)",
      "\u001b[0;32m<ipython-input-36-61f11d718934>\u001b[0m in \u001b[0;36m<module>\u001b[0;34m\u001b[0m\n\u001b[1;32m      8\u001b[0m         \u001b[0mlst_alphabets\u001b[0m\u001b[0;34m.\u001b[0m\u001b[0mappend\u001b[0m\u001b[0;34m(\u001b[0m\u001b[0mi\u001b[0m\u001b[0;34m)\u001b[0m\u001b[0;34m\u001b[0m\u001b[0;34m\u001b[0m\u001b[0m\n\u001b[1;32m      9\u001b[0m \u001b[0;34m\u001b[0m\u001b[0m\n\u001b[0;32m---> 10\u001b[0;31m \u001b[0mfinal_string\u001b[0m \u001b[0;34m=\u001b[0m \u001b[0mstr\u001b[0m\u001b[0;34m(\u001b[0m\u001b[0mlst_alphabets\u001b[0m\u001b[0;34m)\u001b[0m\u001b[0;34m\u001b[0m\u001b[0;34m\u001b[0m\u001b[0m\n\u001b[0m\u001b[1;32m     11\u001b[0m \u001b[0mfinal_string\u001b[0m \u001b[0;34m=\u001b[0m \u001b[0mfinal_string\u001b[0m\u001b[0;34m.\u001b[0m\u001b[0mto_lower\u001b[0m\u001b[0;34m(\u001b[0m\u001b[0;34m)\u001b[0m\u001b[0;34m\u001b[0m\u001b[0;34m\u001b[0m\u001b[0m\n",
      "\u001b[0;31mTypeError\u001b[0m: 'str' object is not callable"
     ]
    }
   ],
   "source": [
    "str1 = input(\"Enter the string\")\n",
    "lst_alphabets =[]\n",
    "\n",
    "for i in str1:\n",
    "    if  i.isalpha() == False:\n",
    "        pass\n",
    "    else:\n",
    "        lst_alphabets.append(i)\n",
    "\n",
    "final_string = ''.join(lst_alphabets)\n",
    "final_string = final_string.to_lower()"
   ]
  },
  {
   "cell_type": "code",
   "execution_count": null,
   "metadata": {},
   "outputs": [],
   "source": []
  }
 ],
 "metadata": {
  "kernelspec": {
   "display_name": "Python 3",
   "language": "python",
   "name": "python3"
  },
  "language_info": {
   "codemirror_mode": {
    "name": "ipython",
    "version": 3
   },
   "file_extension": ".py",
   "mimetype": "text/x-python",
   "name": "python",
   "nbconvert_exporter": "python",
   "pygments_lexer": "ipython3",
   "version": "3.7.6"
  }
 },
 "nbformat": 4,
 "nbformat_minor": 4
}
